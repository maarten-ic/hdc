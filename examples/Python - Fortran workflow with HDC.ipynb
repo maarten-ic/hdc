{
 "cells": [
  {
   "cell_type": "code",
   "execution_count": 1,
   "metadata": {
    "collapsed": true
   },
   "outputs": [],
   "source": [
    "import numpy as np"
   ]
  },
  {
   "cell_type": "code",
   "execution_count": 3,
   "metadata": {
    "collapsed": false
   },
   "outputs": [
    {
     "ename": "OSError",
     "evalue": "libchdc.so: cannot open shared object file: No such file or directory",
     "output_type": "error",
     "traceback": [
      "\u001b[0;31m---------------------------------------------------------------------------\u001b[0m",
      "\u001b[0;31mOSError\u001b[0m                                   Traceback (most recent call last)",
      "\u001b[0;32m<ipython-input-3-b2a7e39fa734>\u001b[0m in \u001b[0;36m<module>\u001b[0;34m()\u001b[0m\n\u001b[1;32m      1\u001b[0m \u001b[0;31m# import the base HDC class\u001b[0m\u001b[0;34m\u001b[0m\u001b[0;34m\u001b[0m\u001b[0m\n\u001b[0;32m----> 2\u001b[0;31m \u001b[0;32mfrom\u001b[0m \u001b[0mpyhdc\u001b[0m \u001b[0;32mimport\u001b[0m \u001b[0mHDC\u001b[0m\u001b[0;34m\u001b[0m\u001b[0m\n\u001b[0m",
      "\u001b[0;32m/home/david/projects/hdc_new/build/lib/pyhdc.py\u001b[0m in \u001b[0;36m<module>\u001b[0;34m()\u001b[0m\n\u001b[1;32m     24\u001b[0m \u001b[0;34m\u001b[0m\u001b[0m\n\u001b[1;32m     25\u001b[0m \u001b[0;34m\u001b[0m\u001b[0m\n\u001b[0;32m---> 26\u001b[0;31m \u001b[0mlibchdc\u001b[0m \u001b[0;34m=\u001b[0m \u001b[0mctypes\u001b[0m\u001b[0;34m.\u001b[0m\u001b[0mcdll\u001b[0m\u001b[0;34m.\u001b[0m\u001b[0mLoadLibrary\u001b[0m\u001b[0;34m(\u001b[0m\u001b[0;34m'libchdc.so'\u001b[0m\u001b[0;34m)\u001b[0m\u001b[0;34m\u001b[0m\u001b[0m\n\u001b[0m\u001b[1;32m     27\u001b[0m \u001b[0m_hdc_new_empty\u001b[0m \u001b[0;34m=\u001b[0m \u001b[0mlibchdc\u001b[0m\u001b[0;34m.\u001b[0m\u001b[0mhdc_new_empty\u001b[0m\u001b[0;34m\u001b[0m\u001b[0m\n\u001b[1;32m     28\u001b[0m \u001b[0m_hdc_new_empty\u001b[0m\u001b[0;34m.\u001b[0m\u001b[0mrestype\u001b[0m \u001b[0;34m=\u001b[0m \u001b[0m_HDC_T_P\u001b[0m\u001b[0;34m\u001b[0m\u001b[0m\n",
      "\u001b[0;32m/usr/lib/python3.5/ctypes/__init__.py\u001b[0m in \u001b[0;36mLoadLibrary\u001b[0;34m(self, name)\u001b[0m\n\u001b[1;32m    423\u001b[0m \u001b[0;34m\u001b[0m\u001b[0m\n\u001b[1;32m    424\u001b[0m     \u001b[0;32mdef\u001b[0m \u001b[0mLoadLibrary\u001b[0m\u001b[0;34m(\u001b[0m\u001b[0mself\u001b[0m\u001b[0;34m,\u001b[0m \u001b[0mname\u001b[0m\u001b[0;34m)\u001b[0m\u001b[0;34m:\u001b[0m\u001b[0;34m\u001b[0m\u001b[0m\n\u001b[0;32m--> 425\u001b[0;31m         \u001b[0;32mreturn\u001b[0m \u001b[0mself\u001b[0m\u001b[0;34m.\u001b[0m\u001b[0m_dlltype\u001b[0m\u001b[0;34m(\u001b[0m\u001b[0mname\u001b[0m\u001b[0;34m)\u001b[0m\u001b[0;34m\u001b[0m\u001b[0m\n\u001b[0m\u001b[1;32m    426\u001b[0m \u001b[0;34m\u001b[0m\u001b[0m\n\u001b[1;32m    427\u001b[0m \u001b[0mcdll\u001b[0m \u001b[0;34m=\u001b[0m \u001b[0mLibraryLoader\u001b[0m\u001b[0;34m(\u001b[0m\u001b[0mCDLL\u001b[0m\u001b[0;34m)\u001b[0m\u001b[0;34m\u001b[0m\u001b[0m\n",
      "\u001b[0;32m/usr/lib/python3.5/ctypes/__init__.py\u001b[0m in \u001b[0;36m__init__\u001b[0;34m(self, name, mode, handle, use_errno, use_last_error)\u001b[0m\n\u001b[1;32m    345\u001b[0m \u001b[0;34m\u001b[0m\u001b[0m\n\u001b[1;32m    346\u001b[0m         \u001b[0;32mif\u001b[0m \u001b[0mhandle\u001b[0m \u001b[0;32mis\u001b[0m \u001b[0;32mNone\u001b[0m\u001b[0;34m:\u001b[0m\u001b[0;34m\u001b[0m\u001b[0m\n\u001b[0;32m--> 347\u001b[0;31m             \u001b[0mself\u001b[0m\u001b[0;34m.\u001b[0m\u001b[0m_handle\u001b[0m \u001b[0;34m=\u001b[0m \u001b[0m_dlopen\u001b[0m\u001b[0;34m(\u001b[0m\u001b[0mself\u001b[0m\u001b[0;34m.\u001b[0m\u001b[0m_name\u001b[0m\u001b[0;34m,\u001b[0m \u001b[0mmode\u001b[0m\u001b[0;34m)\u001b[0m\u001b[0;34m\u001b[0m\u001b[0m\n\u001b[0m\u001b[1;32m    348\u001b[0m         \u001b[0;32melse\u001b[0m\u001b[0;34m:\u001b[0m\u001b[0;34m\u001b[0m\u001b[0m\n\u001b[1;32m    349\u001b[0m             \u001b[0mself\u001b[0m\u001b[0;34m.\u001b[0m\u001b[0m_handle\u001b[0m \u001b[0;34m=\u001b[0m \u001b[0mhandle\u001b[0m\u001b[0;34m\u001b[0m\u001b[0m\n",
      "\u001b[0;31mOSError\u001b[0m: libchdc.so: cannot open shared object file: No such file or directory"
     ]
    }
   ],
   "source": [
    "# import the base HDC class\n",
    "from pyhdc import HDC"
   ]
  },
  {
   "cell_type": "code",
   "execution_count": 3,
   "metadata": {
    "collapsed": false
   },
   "outputs": [],
   "source": [
    "# import fortran function wrapper\n",
    "from hdc_fortran_module import test_cpos"
   ]
  },
  {
   "cell_type": "markdown",
   "metadata": {},
   "source": [
    "First, we'll construct the input \"equilibrium\" container."
   ]
  },
  {
   "cell_type": "code",
   "execution_count": 4,
   "metadata": {
    "collapsed": true
   },
   "outputs": [],
   "source": [
    "equilibrium = HDC()\n",
    "equilibrium['profiles_1d/psi'] = np.linspace(0, 1, 5)\n",
    "equilibrium['time'] = np.array(2.34)"
   ]
  },
  {
   "cell_type": "markdown",
   "metadata": {},
   "source": [
    "Display the equilibrium using the dump method."
   ]
  },
  {
   "cell_type": "code",
   "execution_count": 5,
   "metadata": {
    "collapsed": false
   },
   "outputs": [
    {
     "name": "stdout",
     "output_type": "stream",
     "text": [
      "{\n",
      "\t\"profiles_1d\" : \n",
      "\t{\n",
      "\t\t\"psi\" : \"[0,0.25,0.5,0.75,1]\"\n",
      "\t},\n",
      "\t\"time\" : \"2.34\"\n",
      "}\n"
     ]
    }
   ],
   "source": [
    "print(equilibrium.dumps())"
   ]
  },
  {
   "cell_type": "markdown",
   "metadata": {},
   "source": [
    "Print nodes using .as_array()"
   ]
  },
  {
   "cell_type": "code",
   "execution_count": 6,
   "metadata": {
    "collapsed": false
   },
   "outputs": [
    {
     "name": "stdout",
     "output_type": "stream",
     "text": [
      "equilibrium['time'] -> 2.34\n",
      "equilibrium['profiles_1d/psi'] -> [ 0.    0.25  0.5   0.75  1.  ]\n"
     ]
    }
   ],
   "source": [
    "print(\"equilibrium['time'] -> {}\".format(equilibrium['time'].as_array()))\n",
    "print(\"equilibrium['profiles_1d/psi'] -> {}\".format(equilibrium['profiles_1d/psi'].as_array()))"
   ]
  },
  {
   "cell_type": "markdown",
   "metadata": {},
   "source": [
    "Call a Fortran function that inputs and outputs a container"
   ]
  },
  {
   "cell_type": "code",
   "execution_count": 7,
   "metadata": {
    "collapsed": false
   },
   "outputs": [],
   "source": [
    "tree_out = test_cpos(equilibrium)"
   ]
  },
  {
   "cell_type": "code",
   "execution_count": 8,
   "metadata": {
    "collapsed": false
   },
   "outputs": [
    {
     "name": "stdout",
     "output_type": "stream",
     "text": [
      "{\n",
      "\t\"distsourceout\" : \n",
      "\t{\n",
      "\t\t\"codeparam\" : \n",
      "\t\t{\n",
      "\t\t\t\"codename\" : \"\\\"equ2dist\\\"\",\n",
      "\t\t\t\"codeversion\" : \"\\\"1.0\\\"\",\n",
      "\t\t\t\"output_diag\" : \"\\\"Made in Python\\\"\",\n",
      "\t\t\t\"output_flag\" : \"0\",\n",
      "\t\t\t\"parameters\" : \"\\\"my_code_specific_parameters\\\"\"\n",
      "\t\t},\n",
      "\t\t\"profiles_1d\" : \n",
      "\t\t{\n",
      "\t\t\t\"psi\" : \"[0,0.25,0.5,0.75,1]\"\n",
      "\t\t},\n",
      "\t\t\"source\" : \n",
      "\t\t{\n",
      "\t\t\t\"profiles_1d\" : \n",
      "\t\t\t{\n",
      "\t\t\t\t\"psi\" : \"[-0,-0.75,-1.5,-2.25,-3]\"\n",
      "\t\t\t}\n",
      "\t\t},\n",
      "\t\t\"time\" : \"2.34\"\n",
      "\t}\n",
      "}\n"
     ]
    }
   ],
   "source": [
    "print(tree_out.dumps())"
   ]
  },
  {
   "cell_type": "code",
   "execution_count": 9,
   "metadata": {
    "collapsed": true
   },
   "outputs": [],
   "source": [
    "tree_out.json_dump(\"test.json\")"
   ]
  },
  {
   "cell_type": "code",
   "execution_count": 10,
   "metadata": {
    "collapsed": false
   },
   "outputs": [
    {
     "name": "stdout",
     "output_type": "stream",
     "text": [
      "{\r\n",
      "\t\"distsourceout\" : \r\n",
      "\t{\r\n",
      "\t\t\"codeparam\" : \r\n",
      "\t\t{\r\n",
      "\t\t\t\"codename\" : \"equ2dist\",\r\n",
      "\t\t\t\"codeversion\" : \"1.0\",\r\n",
      "\t\t\t\"output_diag\" : \"Made in Python\",\r\n",
      "\t\t\t\"output_flag\" : \"0\",\r\n",
      "\t\t\t\"parameters\" : \"my_code_specific_parameters\"\r\n",
      "\t\t},\r\n",
      "\t\t\"profiles_1d\" : \r\n",
      "\t\t{\r\n",
      "\t\t\t\"psi\" : [0,0.25,0.5,0.75,1]\r\n",
      "\t\t},\r\n",
      "\t\t\"source\" : \r\n",
      "\t\t{\r\n",
      "\t\t\t\"profiles_1d\" : \r\n",
      "\t\t\t{\r\n",
      "\t\t\t\t\"psi\" : [-0,-0.75,-1.5,-2.25,-3]\r\n",
      "\t\t\t}\r\n",
      "\t\t},\r\n",
      "\t\t\"time\" : \"2.34\"\r\n",
      "\t}\r\n",
      "}"
     ]
    }
   ],
   "source": [
    "%cat test.json"
   ]
  },
  {
   "cell_type": "markdown",
   "metadata": {},
   "source": [
    "Check the effect of the fortran function"
   ]
  },
  {
   "cell_type": "code",
   "execution_count": 11,
   "metadata": {
    "collapsed": false
   },
   "outputs": [],
   "source": [
    "assert np.all(tree_out['distsourceout/source/profiles_1d/psi'].as_array() == \n",
    "              -3 * equilibrium['profiles_1d/psi'].as_array())"
   ]
  },
  {
   "cell_type": "code",
   "execution_count": null,
   "metadata": {
    "collapsed": true
   },
   "outputs": [],
   "source": []
  }
 ],
 "metadata": {
  "kernelspec": {
   "display_name": "Python 3",
   "language": "python",
   "name": "python3"
  },
  "language_info": {
   "codemirror_mode": {
    "name": "ipython",
    "version": 3
   },
   "file_extension": ".py",
   "mimetype": "text/x-python",
   "name": "python",
   "nbconvert_exporter": "python",
   "pygments_lexer": "ipython3",
   "version": "3.5.2"
  }
 },
 "nbformat": 4,
 "nbformat_minor": 0
}
